{
 "cells": [
  {
   "cell_type": "code",
   "execution_count": null,
   "id": "3bd03c5f-4257-4f64-96f3-f10aa62ae5f8",
   "metadata": {},
   "outputs": [
    {
     "name": "stderr",
     "output_type": "stream",
     "text": [
      "/Users/lucasmoreira/.pyenv/versions/3.9.15/lib/python3.9/site-packages/requests/__init__.py:102: RequestsDependencyWarning: urllib3 (1.26.14) or chardet (5.2.0)/charset_normalizer (2.0.12) doesn't match a supported version!\n",
      "  warnings.warn(\"urllib3 ({}) or chardet ({})/charset_normalizer ({}) doesn't match a supported \"\n"
     ]
    }
   ],
   "source": [
    "\"\"\"\n",
    "Autor: Lucas Moreira\n",
    "Projeto: ETL de dados Fenabrave (Novos e Seminovos/Usados)\n",
    "Descrição: Notebook de análise dos dados pós-tratamento dos 50 Autos usados mais comercializados \n",
    "Data: 2025-06\n",
    "\"\"\"\n",
    "\n",
    "import pandas as pd\n",
    "import gspread\n",
    "from oauth2client.service_account import ServiceAccountCredentials\n",
    "from gspread_dataframe import get_as_dataframe\n",
    "import bar_chart_race as bcr\n",
    "import warnings\n",
    "warnings.filterwarnings(\"ignore\")"
   ]
  },
  {
   "cell_type": "code",
   "execution_count": 2,
   "id": "bf165d4c-6f99-4486-87d4-8f9696eddf21",
   "metadata": {},
   "outputs": [],
   "source": [
    "# Caminho para seu arquivo JSON com a credencial\n",
    "cred_path = '/Users/lucasmoreira/Documents/code/credentials.json'\n",
    "\n",
    "# Definir escopos\n",
    "scope = ['https://spreadsheets.google.com/feeds',\n",
    "         'https://www.googleapis.com/auth/drive']\n",
    "\n",
    "# Autenticação\n",
    "creds = ServiceAccountCredentials.from_json_keyfile_name(cred_path, scope)\n",
    "gc = gspread.authorize(creds)\n",
    "\n",
    "\n",
    "# Abrir planilha e aba\n",
    "spreadsheet_url = 'https://docs.google.com/spreadsheets/d/1NQ1O36AwIQk9rXCQOR7HTsnEmtegcwvVYTbpGlsco8Y/edit?gid=0#gid=0'\n",
    "sh = gc.open_by_url(spreadsheet_url)\n",
    "worksheet = sh.worksheet('Autos')\n",
    "used_autos = get_as_dataframe(worksheet)"
   ]
  },
  {
   "cell_type": "code",
   "execution_count": null,
   "id": "3f7fd1ea-cee5-4dae-bfbb-0cc309ffdea1",
   "metadata": {},
   "outputs": [],
   "source": [
    "# Ordena corretamente\n",
    "used_autos = used_autos.sort_values(by=['model', 'ano_mes'])\n",
    "\n",
    "# Formata ano_mes para o formato MM/YYYY\n",
    "used_autos['periodo'] = used_autos['ano_mes'].apply(lambda x: f\"{x[-2:]}/{x[:4]}\")\n",
    "\n",
    "# Cria coluna com o acumulado mês após mês\n",
    "used_autos['total_acumulado'] = used_autos.groupby('model')['total'].cumsum()\n",
    "\n",
    "# Transpõe a tabela de long para wide\n",
    "pivot_used_autos = used_autos.pivot_table(\n",
    "    index='ano_mes',\n",
    "    columns='model',\n",
    "    values='total_acumulado',\n",
    "    aggfunc='sum'\n",
    ").ffill()\n",
    "\n",
    "period_map = {x: f\"{x[-2:]}/{x[:4]}\" for x in pivot_used_autos.index}\n",
    "pivot_used_autos.index = pivot_used_autos.index.map(period_map)\n",
    "\n",
    "# Seleciona os 20 modelos usados mais transacionados (a fins de visualização)\n",
    "total_vendas_por_modelo = pivot_used_autos.iloc[-1]\n",
    "top_modelos = total_vendas_por_modelo.sort_values(ascending=False).head(20).index\n",
    "pivot_used_autos_bcr = pivot_used_autos[top_modelos]\n",
    "pivot_used_autos_bcr = pivot_used_autos_bcr.fillna(0)"
   ]
  },
  {
   "cell_type": "code",
   "execution_count": 10,
   "id": "8bed0342-79d3-4bff-8cb3-4885e1438264",
   "metadata": {},
   "outputs": [],
   "source": [
    "bcr.bar_chart_race(\n",
    "    figsize=(5, 3),\n",
    "    dpi=144,\n",
    "    df=pivot_used_autos_bcr,\n",
    "    filename='output/clip_used_fenabrave.mp4',\n",
    "    cmap='tab20',\n",
    "    title='Seminovos/Usados mais comercializados (#k)',\n",
    "    title_size=12,\n",
    "    bar_label_size=7,\n",
    "    tick_label_size=7,\n",
    "    shared_fontdict={'family' : 'Helvetica', 'color' : '.1'})"
   ]
  }
 ],
 "metadata": {
  "kernelspec": {
   "display_name": "3.9.15",
   "language": "python",
   "name": "python3"
  },
  "language_info": {
   "codemirror_mode": {
    "name": "ipython",
    "version": 3
   },
   "file_extension": ".py",
   "mimetype": "text/x-python",
   "name": "python",
   "nbconvert_exporter": "python",
   "pygments_lexer": "ipython3",
   "version": "3.9.15"
  }
 },
 "nbformat": 4,
 "nbformat_minor": 5
}
